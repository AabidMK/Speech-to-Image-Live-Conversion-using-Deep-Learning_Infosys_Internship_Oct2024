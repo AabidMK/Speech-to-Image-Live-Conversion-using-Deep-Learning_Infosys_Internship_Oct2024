{
 "cells": [
  {
   "cell_type": "code",
   "execution_count": 10,
   "id": "e4e88d40",
   "metadata": {},
   "outputs": [],
   "source": [
    "import sounddevice as sd\n",
    "import numpy as np\n",
    "import whisper\n",
    "import warnings\n",
    "from diffusers import DiffusionPipeline\n",
    "\n",
    "warnings.filterwarnings(\"ignore\")"
   ]
  },
  {
   "cell_type": "code",
   "execution_count": 22,
   "id": "537769c4",
   "metadata": {},
   "outputs": [
    {
     "name": "stdout",
     "output_type": "stream",
     "text": [
      "Recording...\n",
      "Recording finished.\n"
     ]
    }
   ],
   "source": [
    "# Parameters for audio recording\n",
    "duration = 5  # Duration in seconds\n",
    "sample_rate = 16000  # Sample rate for audio recording\n",
    "\n",
    "# Step 1: Record Audio\n",
    "print(\"Recording...\")\n",
    "\n",
    "recording = sd.rec(int(duration * sample_rate), samplerate=sample_rate, channels=1, dtype='float32')\n",
    "sd.wait() \n",
    "\n",
    "print(\"Recording finished.\")\n",
    "recording = recording.flatten() "
   ]
  },
  {
   "cell_type": "code",
   "execution_count": 23,
   "id": "d9ba6b32",
   "metadata": {},
   "outputs": [
    {
     "name": "stdout",
     "output_type": "stream",
     "text": [
      "Transcribing using Whisper...\n",
      "Detected language: English\n"
     ]
    },
    {
     "name": "stderr",
     "output_type": "stream",
     "text": [
      "100%|███████████████████████████████████████████████████████████████████████████| 500/500 [00:01<00:00, 430.58frames/s]"
     ]
    },
    {
     "name": "stdout",
     "output_type": "stream",
     "text": [
      "Recognized text:  Painting of cat reading a book\n"
     ]
    },
    {
     "name": "stderr",
     "output_type": "stream",
     "text": [
      "\n"
     ]
    }
   ],
   "source": [
    "# Step 2: Transcribe Audio with Whisper\n",
    "print(\"Transcribing using Whisper...\")\n",
    "\n",
    "model = whisper.load_model(\"base\")  \n",
    "result = model.transcribe(recording, verbose=False)\n",
    "\n",
    "# Extract the recognized text\n",
    "prompt = result['text']\n",
    "print(\"Recognized text:\", prompt)"
   ]
  },
  {
   "cell_type": "code",
   "execution_count": 24,
   "id": "cf8910f6",
   "metadata": {},
   "outputs": [
    {
     "name": "stdout",
     "output_type": "stream",
     "text": [
      "Generating image from text prompt...\n"
     ]
    },
    {
     "data": {
      "application/vnd.jupyter.widget-view+json": {
       "model_id": "b1b3ea7a4d60480780e3d192a999df40",
       "version_major": 2,
       "version_minor": 0
      },
      "text/plain": [
       "model_index.json:   0%|          | 0.00/376 [00:00<?, ?B/s]"
      ]
     },
     "metadata": {},
     "output_type": "display_data"
    },
    {
     "data": {
      "application/vnd.jupyter.widget-view+json": {
       "model_id": "c257e591189c4d50b69d4918f22b2f79",
       "version_major": 2,
       "version_minor": 0
      },
      "text/plain": [
       "Fetching 11 files:   0%|          | 0/11 [00:00<?, ?it/s]"
      ]
     },
     "metadata": {},
     "output_type": "display_data"
    },
    {
     "data": {
      "application/vnd.jupyter.widget-view+json": {
       "model_id": "76618fd8bc7c437ebc7580c989550a2d",
       "version_major": 2,
       "version_minor": 0
      },
      "text/plain": [
       "Loading pipeline components...:   0%|          | 0/5 [00:00<?, ?it/s]"
      ]
     },
     "metadata": {},
     "output_type": "display_data"
    },
    {
     "name": "stderr",
     "output_type": "stream",
     "text": [
      "An error occurred while trying to fetch C:\\Users\\SANJANA\\.cache\\huggingface\\hub\\models--CompVis--ldm-text2im-large-256\\snapshots\\30de525ca11a880baea4962827fb6cb0bb268955\\vqvae: Error no file named diffusion_pytorch_model.safetensors found in directory C:\\Users\\SANJANA\\.cache\\huggingface\\hub\\models--CompVis--ldm-text2im-large-256\\snapshots\\30de525ca11a880baea4962827fb6cb0bb268955\\vqvae.\n",
      "Defaulting to unsafe serialization. Pass `allow_pickle=False` to raise an error instead.\n",
      "An error occurred while trying to fetch C:\\Users\\SANJANA\\.cache\\huggingface\\hub\\models--CompVis--ldm-text2im-large-256\\snapshots\\30de525ca11a880baea4962827fb6cb0bb268955\\unet: Error no file named diffusion_pytorch_model.safetensors found in directory C:\\Users\\SANJANA\\.cache\\huggingface\\hub\\models--CompVis--ldm-text2im-large-256\\snapshots\\30de525ca11a880baea4962827fb6cb0bb268955\\unet.\n",
      "Defaulting to unsafe serialization. Pass `allow_pickle=False` to raise an error instead.\n",
      "The config attributes {'timestep_values': None} were passed to DDIMScheduler, but are not expected and will be ignored. Please verify your scheduler_config.json configuration file.\n"
     ]
    },
    {
     "data": {
      "application/vnd.jupyter.widget-view+json": {
       "model_id": "1d3d2a9c93a94c9e84423891ad7190ed",
       "version_major": 2,
       "version_minor": 0
      },
      "text/plain": [
       "  0%|          | 0/50 [00:00<?, ?it/s]"
      ]
     },
     "metadata": {},
     "output_type": "display_data"
    },
    {
     "name": "stdout",
     "output_type": "stream",
     "text": [
      "Image generation complete.\n"
     ]
    }
   ],
   "source": [
    "# Step 3: Use the Recognized Text as Prompt for Image Generation\n",
    "print(\"Generating image from text prompt...\")\n",
    "\n",
    "model_id = \"CompVis/ldm-text2im-large-256\"\n",
    "ldm = DiffusionPipeline.from_pretrained(model_id, force_download=True)  # Add force_download=True\n",
    "\n",
    "# Generate images from the transcribed text\n",
    "images = ldm([prompt], num_inference_steps=50, eta=0.3, guidance_scale=6).images\n",
    "\n",
    "# Save the generated images\n",
    "for idx, image in enumerate(images):\n",
    "    image.save(f\"generated_image-{idx}.png\")\n",
    "\n",
    "print(\"Image generation complete.\")"
   ]
  },
  {
   "cell_type": "code",
   "execution_count": null,
   "id": "58b51536",
   "metadata": {},
   "outputs": [],
   "source": []
  }
 ],
 "metadata": {
  "kernelspec": {
   "display_name": "Python 3 (ipykernel)",
   "language": "python",
   "name": "python3"
  },
  "language_info": {
   "codemirror_mode": {
    "name": "ipython",
    "version": 3
   },
   "file_extension": ".py",
   "mimetype": "text/x-python",
   "name": "python",
   "nbconvert_exporter": "python",
   "pygments_lexer": "ipython3",
   "version": "3.11.3"
  }
 },
 "nbformat": 4,
 "nbformat_minor": 5
}
