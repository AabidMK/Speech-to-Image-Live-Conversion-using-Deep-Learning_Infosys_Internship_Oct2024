{
 "cells": [
  {
   "cell_type": "code",
   "execution_count": 1,
   "id": "d90d4fab-32f6-4a95-8dab-e7eda6f1a7ff",
   "metadata": {},
   "outputs": [
    {
     "name": "stdout",
     "output_type": "stream",
     "text": [
      "Collecting git+https://github.com/openai/whisper.git\n",
      "  Cloning https://github.com/openai/whisper.git to c:\\users\\pbisw\\appdata\\local\\temp\\pip-req-build-cg2d8hln\n",
      "  Resolved https://github.com/openai/whisper.git to commit 25639fc17ddc013d56c594bfbf7644f2185fad84\n",
      "  Installing build dependencies: started\n",
      "  Installing build dependencies: finished with status 'done'\n",
      "  Getting requirements to build wheel: started\n",
      "  Getting requirements to build wheel: finished with status 'done'\n",
      "  Preparing metadata (pyproject.toml): started\n",
      "  Preparing metadata (pyproject.toml): finished with status 'done'\n",
      "Requirement already satisfied: numba in e:\\lib\\site-packages (from openai-whisper==20240930) (0.60.0)\n",
      "Requirement already satisfied: numpy in e:\\lib\\site-packages (from openai-whisper==20240930) (1.26.4)\n",
      "Requirement already satisfied: torch in e:\\lib\\site-packages (from openai-whisper==20240930) (2.4.1)\n",
      "Requirement already satisfied: tqdm in e:\\lib\\site-packages (from openai-whisper==20240930) (4.66.4)\n",
      "Requirement already satisfied: more-itertools in e:\\lib\\site-packages (from openai-whisper==20240930) (10.5.0)\n",
      "Requirement already satisfied: tiktoken in e:\\lib\\site-packages (from openai-whisper==20240930) (0.8.0)\n",
      "Requirement already satisfied: llvmlite<0.44,>=0.43.0dev0 in e:\\lib\\site-packages (from numba->openai-whisper==20240930) (0.43.0)\n",
      "Requirement already satisfied: regex>=2022.1.18 in e:\\lib\\site-packages (from tiktoken->openai-whisper==20240930) (2024.9.11)\n",
      "Requirement already satisfied: requests>=2.26.0 in e:\\lib\\site-packages (from tiktoken->openai-whisper==20240930) (2.32.3)\n",
      "Requirement already satisfied: filelock in e:\\lib\\site-packages (from torch->openai-whisper==20240930) (3.13.1)\n",
      "Requirement already satisfied: typing-extensions>=4.8.0 in e:\\lib\\site-packages (from torch->openai-whisper==20240930) (4.12.2)\n",
      "Requirement already satisfied: sympy in e:\\lib\\site-packages (from torch->openai-whisper==20240930) (1.12)\n",
      "Requirement already satisfied: networkx in e:\\lib\\site-packages (from torch->openai-whisper==20240930) (3.2.1)\n",
      "Requirement already satisfied: jinja2 in e:\\lib\\site-packages (from torch->openai-whisper==20240930) (3.1.3)\n",
      "Requirement already satisfied: fsspec in e:\\lib\\site-packages (from torch->openai-whisper==20240930) (2024.2.0)\n",
      "Requirement already satisfied: setuptools in e:\\lib\\site-packages (from torch->openai-whisper==20240930) (69.1.1)\n",
      "Requirement already satisfied: colorama in e:\\lib\\site-packages (from tqdm->openai-whisper==20240930) (0.4.6)\n",
      "Requirement already satisfied: charset-normalizer<4,>=2 in e:\\lib\\site-packages (from requests>=2.26.0->tiktoken->openai-whisper==20240930) (3.3.2)\n",
      "Requirement already satisfied: idna<4,>=2.5 in e:\\lib\\site-packages (from requests>=2.26.0->tiktoken->openai-whisper==20240930) (3.6)\n",
      "Requirement already satisfied: urllib3<3,>=1.21.1 in e:\\lib\\site-packages (from requests>=2.26.0->tiktoken->openai-whisper==20240930) (2.2.0)\n",
      "Requirement already satisfied: certifi>=2017.4.17 in e:\\lib\\site-packages (from requests>=2.26.0->tiktoken->openai-whisper==20240930) (2024.2.2)\n",
      "Requirement already satisfied: MarkupSafe>=2.0 in e:\\lib\\site-packages (from jinja2->torch->openai-whisper==20240930) (2.1.5)\n",
      "Requirement already satisfied: mpmath>=0.19 in e:\\lib\\site-packages (from sympy->torch->openai-whisper==20240930) (1.3.0)\n"
     ]
    },
    {
     "name": "stderr",
     "output_type": "stream",
     "text": [
      "  Running command git clone --filter=blob:none --quiet https://github.com/openai/whisper.git 'C:\\Users\\pbisw\\AppData\\Local\\Temp\\pip-req-build-cg2d8hln'\n"
     ]
    }
   ],
   "source": [
    "!pip install git+https://github.com/openai/whisper.git"
   ]
  },
  {
   "cell_type": "code",
   "execution_count": null,
   "id": "5c027b2a-1b03-405a-89e9-61fc11dccf34",
   "metadata": {},
   "outputs": [
    {
     "name": "stdout",
     "output_type": "stream",
     "text": [
      " Hello my name is Adi and I am here to tell you about Whisper API. Open-Avisma is an amazing thing and it is something that you will definitely use if you can understand how powerful it is and how to use it.\n"
     ]
    }
   ],
   "source": [
    "import whisper\n",
    "model = whisper.load_model(\"base\")\n",
    "#Add the Audio File then Transcribe it\n",
    "result = model.transcribe(\"download.mp3\")\n",
    "print(result[\"text\"])"
   ]
  },
  {
   "cell_type": "code",
   "execution_count": 2,
   "id": "0b3f37ea-0e03-4892-8e7a-5e1e29a63231",
   "metadata": {},
   "outputs": [
    {
     "name": "stdout",
     "output_type": "stream",
     "text": [
      " Hello, this is Chukti, half May I help you?\n",
      "WER 1 is: 0.5555555555555556\n"
     ]
    }
   ],
   "source": [
    "from jiwer import wer\n",
    "\n",
    "model = whisper.load_model(\"base\")\n",
    "result1 = model.transcribe(\"jagadeesh.mp3\")\n",
    "prediction1 = result1[\"text\"]\n",
    "hypothesis1 = \" Hello this is jagadeesh How may I help you..\"\n",
    "print(prediction1)\n",
    "error1 = wer(prediction1, hypothesis1)\n",
    "print(\"WER 1 is:\",error1)"
   ]
  },
  {
   "cell_type": "code",
   "execution_count": 3,
   "id": "98c5a960-4717-4abb-9728-4de72c48322e",
   "metadata": {},
   "outputs": [
    {
     "name": "stdout",
     "output_type": "stream",
     "text": [
      " Hello my name is Adi and I am here to tell you about Whisper API. Open-Avisma is an amazing thing and it is something that you will definitely use if you can understand how powerful it is and how to use it.\n",
      "WER 2 is: 0.0\n"
     ]
    }
   ],
   "source": [
    "from jiwer import wer\n",
    "\n",
    "model = whisper.load_model(\"base\")\n",
    "result2 = model.transcribe(\"download.mp3\")\n",
    "prediction2 = result2[\"text\"]\n",
    "print(prediction2)\n",
    "hypothesis2 = \"Hello my name is Adi and I am here to tell you about Whisper API. Open-Avisma is an amazing thing and it is something that you will definitely use if you can understand how powerful it is and how to use it.\"\n",
    "error2 = wer(prediction2, hypothesis2)\n",
    "print(\"WER 2 is:\",error2)"
   ]
  },
  {
   "cell_type": "code",
   "execution_count": 4,
   "id": "f444b484-dc7d-4793-b4eb-8e50b129a7ff",
   "metadata": {},
   "outputs": [
    {
     "name": "stdout",
     "output_type": "stream",
     "text": [
      " Let's write up down.\n",
      "WER 3 is: 0.75\n"
     ]
    }
   ],
   "source": [
    "from jiwer import wer\n",
    "\n",
    "model = whisper.load_model(\"base\")\n",
    "result3 = model.transcribe(\"left.mp3\")\n",
    "prediction3 = result3[\"text\"]\n",
    "print(prediction3)\n",
    "hypothesis3 = \"left right up down\"\n",
    "error3 = wer(prediction3, hypothesis3)\n",
    "print(\"WER 3 is:\",error3)"
   ]
  },
  {
   "cell_type": "code",
   "execution_count": 7,
   "id": "1bd54ec0-8f8c-4993-a2df-5681c2d6b67b",
   "metadata": {},
   "outputs": [
    {
     "name": "stdout",
     "output_type": "stream",
     "text": [
      " 3 to US voice recorder is completely free. No hidden payment is required.\n",
      "WER 4 is: 0.46153846153846156\n"
     ]
    }
   ],
   "source": [
    "import whisper\n",
    "from jiwer import wer\n",
    "\n",
    "model = whisper.load_model(\"base\")\n",
    "result4 = model.transcribe(\"Record.mp3\")\n",
    "prediction4 = result4[\"text\"]\n",
    "print(prediction4)\n",
    "hypothesis4 = \"Free to use Voice Recorder is completely free. No hidden payments is required\"\n",
    "error4 = wer(prediction4, hypothesis4)\n",
    "print(\"WER 4 is:\",error4)"
   ]
  },
  {
   "cell_type": "code",
   "execution_count": 11,
   "id": "f554d494-c544-4c69-8220-0603993a2607",
   "metadata": {},
   "outputs": [
    {
     "name": "stdout",
     "output_type": "stream",
     "text": [
      " More More other other other草 sari عند I'm a little bit more I'm a little bit more I'm a little bit more I'm a little bit more I'm a little bit more I'm a little bit more I'm a little bit more I'm a little bit more I'm a little bit more I'm a little bit more I'm a little bit more I'm a little bit more I'm a little bit more I'm a little bit more I'm a little bit more I'm a little bit more I'm a little bit more I'm a little bit more More, more, more I'm a little bit more More, more, more, more I'm a little bit more Now I'm up here to learn more I'm on here To learn much more To learn much more To learn many fields I'm a little bit more I'm a little bit more I'm a little bit more I'm a little bit more I'm a little bit more I'm a little bit more I'm a little bit more I'm a little bit more But I'm more I'm going to di- It's There's not one At the moment Is it right? Give me some money\n"
     ]
    }
   ],
   "source": [
    "import whisper\n",
    "model = whisper.load_model(\"base\")\n",
    "result = model.transcribe(\"Music.mp3\")\n",
    "print(result[\"text\"])"
   ]
  },
  {
   "cell_type": "code",
   "execution_count": 8,
   "id": "ba43aa43-3243-4335-8e34-54d76b82f392",
   "metadata": {
    "scrolled": true
   },
   "outputs": [
    {
     "name": "stdout",
     "output_type": "stream",
     "text": [
      "0.44177350427350426\n"
     ]
    }
   ],
   "source": [
    "import numpy as np\n",
    "\n",
    "data = np.array([error1,error2,error3,error4])\n",
    "average = np.mean(data)\n",
    "\n",
    "print(average)"
   ]
  },
  {
   "cell_type": "code",
   "execution_count": 18,
   "id": "908c2cac-0b50-49ac-b014-7546683323c1",
   "metadata": {},
   "outputs": [
    {
     "name": "stdout",
     "output_type": "stream",
     "text": [
      " I have acne in my face and other problems in my derma like itching.\n",
      "WER 1 is: 0.07142857142857142\n",
      " I have cut my finger because of playing football and I have to apply pain relief cream but it does not help.\n",
      "WER 2 is: 0.07142857142857142\n",
      " I have a powerful pain inside my neck.\n",
      "WER 3 is: 0.125\n",
      " I have floating on.\n",
      "WER 4 is: 0.5\n",
      "the average is : 0.1854707792207792\n"
     ]
    }
   ],
   "source": [
    "import whisper\n",
    "from jiwer import wer\n",
    "\n",
    "model = whisper.load_model(\"base\")\n",
    "result1 = model.transcribe(\"D:/speech/sample_dataset/sample_dataset/train/1249120_14353703_93481996.wav\")\n",
    "prediction1 = result1[\"text\"]\n",
    "print(prediction1)\n",
    "hypothesis1 = \"I have acne in my face and other problems in my derma like itching\"\n",
    "error1 = wer(prediction1, hypothesis1)\n",
    "print(\"WER 1 is:\",error1)\n",
    "#2\n",
    "model = whisper.load_model(\"base\")\n",
    "result2 = model.transcribe(\"D:/speech/sample_dataset/sample_dataset/train/1249120_15004831_21919890.wav\")\n",
    "prediction2 = result2[\"text\"]\n",
    "print(prediction2)\n",
    "hypothesis2 = \"I have cut my finger because of playing football and I have to apply pain relief cream but it does not help\"\n",
    "error2 = wer(prediction2, hypothesis2)\n",
    "print(\"WER 2 is:\",error1)\n",
    "#3\n",
    "model = whisper.load_model(\"base\")\n",
    "result3 = model.transcribe(\"D:/speech/sample_dataset/sample_dataset/train/1249120_27392644_30360688.wav\")\n",
    "prediction3 = result3[\"text\"]\n",
    "print(prediction3)\n",
    "hypothesis3 = \"I have a powerful pain inside my neck\"\n",
    "error3 = wer(prediction3, hypothesis3)\n",
    "print(\"WER 3 is:\",error3)\n",
    "#4\n",
    "model = whisper.load_model(\"base\")\n",
    "result4 = model.transcribe(\"D:/speech/sample_dataset/sample_dataset/train/1249120_40663048_59137120.wav\")\n",
    "prediction4 = result4[\"text\"]\n",
    "print(prediction4)\n",
    "hypothesis4 = \"I have for dia\"\n",
    "error4 = wer(prediction4, hypothesis4)\n",
    "print(\"WER 4 is:\",error4)\n",
    "#finding the average\n",
    "import numpy as np\n",
    "data = np.array([error1,error2,error3,error4])\n",
    "average = np.mean(data)\n",
    "print(\"the average is :\",average)"
   ]
  },
  {
   "cell_type": "code",
   "execution_count": null,
   "id": "ddb0ee80-8242-4417-8b6c-93b4857cdfde",
   "metadata": {},
   "outputs": [],
   "source": []
  }
 ],
 "metadata": {
  "kernelspec": {
   "display_name": "Python 3 (ipykernel)",
   "language": "python",
   "name": "python3"
  },
  "language_info": {
   "codemirror_mode": {
    "name": "ipython",
    "version": 3
   },
   "file_extension": ".py",
   "mimetype": "text/x-python",
   "name": "python",
   "nbconvert_exporter": "python",
   "pygments_lexer": "ipython3",
   "version": "3.12.2"
  }
 },
 "nbformat": 4,
 "nbformat_minor": 5
}
