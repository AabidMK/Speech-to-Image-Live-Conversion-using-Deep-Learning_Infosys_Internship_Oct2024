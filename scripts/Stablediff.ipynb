{
 "cells": [
  {
   "cell_type": "code",
   "execution_count": null,
   "metadata": {},
   "outputs": [],
   "source": [
    "from diffusers import StableDiffusionPipeline\n",
    "import torch\n",
    "\n",
    "model_id = \"CompVis/stable-diffusion-v1-4\"\n",
    "pipe = StableDiffusionPipeline.from_pretrained(model_id, torch_dtype=torch.float16)\n",
    "pipe = pipe.to(\"cuda\")  \n",
    "\n",
    "prompt = \"A image of futuristic city\"\n",
    "\n",
    "\n",
    "with torch.autocast(\"cuda\"):\n",
    "    image = pipe(prompt).images[0]\n",
    "\n",
    "output_path = \"generated_image.png\"\n",
    "image.save(output_path)"
   ]
  },
  {
   "cell_type": "code",
   "execution_count": null,
   "metadata": {},
   "outputs": [],
   "source": [
    "from transformers import WhisperProcessor, WhisperForConditionalGeneration\n",
    "from diffusers import StableDiffusionPipeline\n",
    "import torch\n",
    "import torchaudio\n",
    "\n",
    "whisper_model_path = \"S2A\\Codes\\whisper_finetuned.pkl\"\n",
    "processor = WhisperProcessor.from_pretrained(whisper_model_path)\n",
    "model = WhisperForConditionalGeneration.from_pretrained(whisper_model_path)\n",
    "model = model.to(\"cuda\")\n",
    "\n",
    "def transcribe_audio(audio_path):\n",
    "    audio, rate = torchaudio.load(audio_path)\n",
    "    if rate != 16000:\n",
    "        audio = torchaudio.transforms.Resample(orig_freq=rate, new_freq=16000)(audio)\n",
    "    input_features = processor(audio.squeeze().numpy(), sampling_rate=16000, return_tensors=\"pt\").input_features\n",
    "    input_features = input_features.to(\"cuda\")\n",
    "    predicted_ids = model.generate(input_features)\n",
    "    return processor.batch_decode(predicted_ids, skip_special_tokens=True)[0]\n",
    "\n",
    "stable_diffusion_model_id = \"CompVis/stable-diffusion-v1-4\"\n",
    "pipe = StableDiffusionPipeline.from_pretrained(stable_diffusion_model_id, torch_dtype=torch.float16)\n",
    "pipe = pipe.to(\"cuda\")\n",
    "\n",
    "def generate_image(prompt, output_path):\n",
    "    with torch.autocast(\"cuda\"):\n",
    "        image = pipe(prompt).images[0]\n",
    "    image.save(output_path)\n",
    "\n",
    "audio_file = \"samaudio.wav\"\n",
    "output_image_path = \"outimg.png\"\n",
    "\n",
    "if __name__ == \"__main__\":\n",
    "    transcribed_text = transcribe_audio(audio_file)\n",
    "    generate_image(transcribed_text, output_image_path)\n"
   ]
  },
  {
   "cell_type": "code",
   "execution_count": null,
   "metadata": {},
   "outputs": [
    {
     "name": "stdout",
     "output_type": "stream",
     "text": [
      "Recording...\n",
      "Recording finished.\n",
      "Transcribed Text: a man in a forest\n"
     ]
    }
   ],
   "source": [
    "import sounddevice as sd\n",
    "import numpy as np\n",
    "import torch\n",
    "import torchaudio\n",
    "from transformers import WhisperProcessor, WhisperForConditionalGeneration\n",
    "from diffusers import StableDiffusionPipeline\n",
    "import io\n",
    "\n",
    "whisper_model_path = \"S2A\\Codes\\whisper_finetuned.pkl\"\n",
    "processor = WhisperProcessor.from_pretrained(whisper_model_path)\n",
    "model = WhisperForConditionalGeneration.from_pretrained(whisper_model_path)\n",
    "model = model.to(\"cuda\")\n",
    "\n",
    "stable_diffusion_model_id = \"CompVis/stable-diffusion-v1-4\"\n",
    "pipe = StableDiffusionPipeline.from_pretrained(stable_diffusion_model_id, torch_dtype=torch.float16)\n",
    "pipe = pipe.to(\"cuda\")\n",
    "\n",
    "def record_audio(duration=10, sample_rate=16000):\n",
    "    print(\"Recording...\")\n",
    "    audio = sd.rec(int(duration * sample_rate), samplerate=sample_rate, channels=1, dtype='int16')\n",
    "    sd.wait()\n",
    "    print(\"Recording finished.\")\n",
    "    return audio.flatten()\n",
    "\n",
    "def transcribe_audio(audio_data):\n",
    "    input_features = processor(audio_data.numpy(), sampling_rate=16000, return_tensors=\"pt\").input_features\n",
    "    input_features = input_features.to(\"cuda\")\n",
    "    predicted_ids = model.generate(input_features)\n",
    "    return processor.batch_decode(predicted_ids, skip_special_tokens=True)[0]\n",
    "\n",
    "def generate_image(prompt, output_path):\n",
    "    with torch.autocast(\"cuda\"):\n",
    "        image = pipe(prompt).images[0]\n",
    "    image.save(output_path)\n",
    "\n",
    "if __name__ == \"__main__\":\n",
    "    audio_data = record_audio(duration=10)\n",
    "    audio_data = torch.tensor(audio_data, dtype=torch.float32)\n",
    "    transcribed_text = transcribe_audio(audio_data)\n",
    "    print(f\"Transcribed Text: {transcribed_text}\")\n",
    "    generate_image(transcribed_text, \"otman_img.png\")\n"
   ]
  }
 ],
 "metadata": {
  "kernelspec": {
   "display_name": "Python 3",
   "language": "python",
   "name": "python3"
  },
  "language_info": {
   "codemirror_mode": {
    "name": "ipython",
    "version": 3
   },
   "file_extension": ".py",
   "mimetype": "text/x-python",
   "name": "python",
   "nbconvert_exporter": "python",
   "pygments_lexer": "ipython3",
   "version": "3.11.9"
  }
 },
 "nbformat": 4,
 "nbformat_minor": 2
}
