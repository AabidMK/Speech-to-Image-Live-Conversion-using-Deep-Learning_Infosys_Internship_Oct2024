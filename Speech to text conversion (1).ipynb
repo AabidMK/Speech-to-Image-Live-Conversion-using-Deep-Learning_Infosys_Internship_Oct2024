{
 "cells": [
  {
   "cell_type": "code",
   "execution_count": 18,
   "id": "cc244dfe-3581-448b-b6f9-4ed1f5ed9547",
   "metadata": {},
   "outputs": [
    {
     "name": "stdout",
     "output_type": "stream",
     "text": [
      "Requirement already satisfied: sounddevice in c:\\users\\tejas\\anaconda3\\lib\\site-packages (0.5.1)Note: you may need to restart the kernel to use updated packages.\n",
      "\n",
      "Requirement already satisfied: whisper in c:\\users\\tejas\\anaconda3\\lib\\site-packages (1.1.10)\n",
      "Requirement already satisfied: numpy in c:\\users\\tejas\\anaconda3\\lib\\site-packages (1.26.4)\n",
      "Requirement already satisfied: scipy in c:\\users\\tejas\\anaconda3\\lib\\site-packages (1.13.1)\n",
      "Requirement already satisfied: CFFI>=1.0 in c:\\users\\tejas\\anaconda3\\lib\\site-packages (from sounddevice) (1.16.0)\n",
      "Requirement already satisfied: six in c:\\users\\tejas\\anaconda3\\lib\\site-packages (from whisper) (1.16.0)\n",
      "Requirement already satisfied: pycparser in c:\\users\\tejas\\anaconda3\\lib\\site-packages (from CFFI>=1.0->sounddevice) (2.21)\n"
     ]
    }
   ],
   "source": [
    "pip install sounddevice whisper numpy scipy\n"
   ]
  },
  {
   "cell_type": "code",
   "execution_count": 9,
   "id": "15203b14-b109-4670-87c7-38d58cf4637a",
   "metadata": {},
   "outputs": [
    {
     "name": "stdout",
     "output_type": "stream",
     "text": [
      "Requirement already satisfied: sounddevice in c:\\users\\tejas\\anaconda3\\lib\\site-packages (0.5.1)Note: you may need to restart the kernel to use updated packages.\n",
      "\n",
      "Requirement already satisfied: CFFI>=1.0 in c:\\users\\tejas\\anaconda3\\lib\\site-packages (from sounddevice) (1.16.0)\n",
      "Requirement already satisfied: pycparser in c:\\users\\tejas\\anaconda3\\lib\\site-packages (from CFFI>=1.0->sounddevice) (2.21)\n"
     ]
    }
   ],
   "source": [
    "pip install sounddevice"
   ]
  },
  {
   "cell_type": "code",
   "execution_count": 5,
   "id": "6ef4bf70-8d8e-4771-90a7-36d0bd137680",
   "metadata": {},
   "outputs": [
    {
     "name": "stdout",
     "output_type": "stream",
     "text": [
      "Recording Started\n",
      "Recording Stopped\n",
      " Anything is possible if you have got enough love.\n"
     ]
    }
   ],
   "source": [
    "import whisper\n",
    "import sounddevice as sd\n",
    "import scipy.io.wavfile as wav\n",
    "import numpy as np\n",
    "\n",
    "# Load the Whisper model\n",
    "model = whisper.load_model(\"base\")\n",
    "\n",
    "# Function to record audio\n",
    "def record_audio(duration, fs=16000):\n",
    "    print(\"Recording Started\")\n",
    "    # Record audio, ensuring that we get an int16 array\n",
    "    audio = sd.rec(int(duration * fs), samplerate=fs, channels=1, dtype=np.int16)\n",
    "    sd.wait()  # Wait until recording is finished\n",
    "    print(\"Recording Stopped\")\n",
    "    return np.squeeze(audio)\n",
    "\n",
    "# Function to save the audio as a .wav file\n",
    "def save_wav(filename, audio, fs=16000):\n",
    "    wav.write(filename, fs, audio)\n",
    "\n",
    "# Define the recording duration\n",
    "duration = 10  # seconds\n",
    "\n",
    "# Record the audio\n",
    "audio = record_audio(duration)\n",
    "\n",
    "# Save the audio to a .wav file\n",
    "audio_filename = \"mic_input.wav\"\n",
    "save_wav(audio_filename, audio)\n",
    "\n",
    "# Use the Whisper model to transcribe the audio\n",
    "result = model.transcribe(audio_filename)\n",
    "\n",
    "# Print the transcribed text\n",
    "print(result['text'])\n"
   ]
  },
  {
   "cell_type": "code",
   "execution_count": null,
   "id": "6cd00f19-031c-4325-b050-c9cfdabf06dc",
   "metadata": {},
   "outputs": [],
   "source": []
  }
 ],
 "metadata": {
  "kernelspec": {
   "display_name": "Python 3 (ipykernel)",
   "language": "python",
   "name": "python3"
  },
  "language_info": {
   "codemirror_mode": {
    "name": "ipython",
    "version": 3
   },
   "file_extension": ".py",
   "mimetype": "text/x-python",
   "name": "python",
   "nbconvert_exporter": "python",
   "pygments_lexer": "ipython3",
   "version": "3.12.4"
  }
 },
 "nbformat": 4,
 "nbformat_minor": 5
}
